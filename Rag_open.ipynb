{
 "cells": [
  {
   "cell_type": "code",
   "execution_count": 7,
   "id": "ad7f6c20-bed1-4686-86e0-d9390d1463ac",
   "metadata": {},
   "outputs": [],
   "source": [
    "import os\n",
    "from langchain.embeddings.openai import OpenAIEmbeddings\n",
    "from langchain.embeddings import HuggingFaceHubEmbeddings,HuggingFaceEmbeddings\n",
    "from langchain.text_splitter import CharacterTextSplitter\n",
    "from langchain.vectorstores import Chroma\n",
    "from langchain.utilities import ApifyWrapper\n",
    "from langchain.document_loaders import TextLoader\n",
    "from langchain.chains import VectorDBQA,RetrievalQA,LLMChain\n",
    "from langchain.chat_models import AzureChatOpenAI\n",
    "from langchain.llms import AI21\n",
    "from langchain.prompts import PromptTemplate\n",
    "import import_ipynb\n",
    "from Config import *\n",
    "import warnings\n",
    "warnings.filterwarnings(\"ignore\")"
   ]
  },
  {
   "cell_type": "code",
   "execution_count": 8,
   "id": "633b7229-4f19-42a6-b717-9a01358716ff",
   "metadata": {},
   "outputs": [
    {
     "name": "stderr",
     "output_type": "stream",
     "text": [
      "No embedding_function provided, using default embedding function: DefaultEmbeddingFunction https://huggingface.co/sentence-transformers/all-MiniLM-L6-v2\n"
     ]
    }
   ],
   "source": [
    "loader = TextLoader(\"sample.txt\",encoding='utf-8')\n",
    "documents = loader.load()\n",
    "\n",
    "text_splitter = CharacterTextSplitter(chunk_size=900, chunk_overlap=2, separator='\\n')\n",
    "docs = text_splitter.split_documents(documents)\n",
    "\n",
    "\n",
    "model_name = \"sentence-transformers/all-mpnet-base-v2\"\n",
    "model_kwargs = {'device': 'cpu'}\n",
    "encode_kwargs = {'normalize_embeddings': True}\n",
    "\n",
    "embeddings= HuggingFaceEmbeddings(\n",
    "    model_name=model_name,\n",
    "    model_kwargs=model_kwargs,\n",
    "    encode_kwargs=encode_kwargs\n",
    ")\n",
    "\n",
    "vectordb = Chroma.from_documents(documents=docs, embedding=embeddings)#, persist_directory=persist_directory)\n"
   ]
  },
  {
   "cell_type": "code",
   "execution_count": 9,
   "id": "a04f3c27-9278-4822-a11b-c87617ee8727",
   "metadata": {},
   "outputs": [],
   "source": [
    "llm = AI21(temperature=0, ai21_api_key= key_value_dict['ai21_Key'])\n",
    "\n",
    "# set prompt template\n",
    "prompt_template = \"\"\"Use the following pieces of context to answer the question at the end give me the confidence score for generated answer. If you don't know the answer, just say that you don't know, \n",
    "don't try to make up an answer.\n",
    "{context}\n",
    "Question: {question}\n",
    "Answer:\"\"\"\n",
    "\n",
    "prompt = PromptTemplate(template=prompt_template, input_variables=[\"context\", \"question\"])"
   ]
  },
  {
   "cell_type": "code",
   "execution_count": 14,
   "id": "a099d2ad-0904-4579-aa51-28083dd72069",
   "metadata": {
    "scrolled": true
   },
   "outputs": [
    {
     "name": "stdout",
     "output_type": "stream",
     "text": [
      "[Document(page_content=\"You'll need to integrate your chatbot with ServiceNow's RESTful API. To do this:\\nCreate a ServiceNow developer account if you don't have one.\\nObtain the necessary API credentials (API key or OAuth tokens) from ServiceNow.\\nImplement code in your Azure Web App to make HTTP requests to ServiceNow's API to retrieve or update records, create incidents, etc. This code should be part of your chatbot's logic.\\nBot Logic:\\nYour chatbot logic should now include actions that interact with ServiceNow. For example, when a user asks the chatbot to create a ServiceNow incident, the bot should make an API call to create the incident in ServiceNow and respond to the user with the incident number or status.\\nTesting:\\nThoroughly test your chatbot's integration with ServiceNow. Ensure that it can handle different user requests and interact effectively with ServiceNow's API.\\nSecurity and Authentication:\", metadata={'source': 'sample.txt'}), Document(page_content=\"Ensure that your Azure Web App and the communication with ServiceNow are secure. This may involve using OAuth or API keys securely.\\nDeployment:\\nDeploy your Azure Web App with the integrated chatbot to make it accessible to users.\\nMonitoring and Maintenance:\\nContinuously monitor your chatbot and make necessary updates to handle changes in ServiceNow's API or chatbot behavior.\\nUser Training and Documentation:\\nIf this chatbot is for internal use, provide training to users on how to interact with it. If it's for external customers, create documentation or guides on how to use the chatbot effectively.\", metadata={'source': 'sample.txt'}), Document(page_content=\"Integrating an Azure Web App with ServiceNow to create a chatbot involves several steps. This integration can be achieved using Azure Bot Service and ServiceNow's APIs. Here's a high-level overview of the process:\\nCreate an Azure Web App:\\nIf you haven't already, create a web application in Azure. You can use Azure App Service to host your chatbot.\\nDevelop or Configure Your Chatbot:\\nYou need to build or configure your chatbot using a framework like Microsoft Bot Framework or Azure Bot Service. This is where you define the chatbot's behavior and responses.\\nSet up Communication Channels:\\nConfigure communication channels for your chatbot. Azure Bot Service supports various channels like Microsoft Teams, Slack, and more. For integrating with ServiceNow, you might want to use a custom web chat channel.\\nServiceNow API Integration:\", metadata={'source': 'sample.txt'})]\n"
     ]
    }
   ],
   "source": [
    "query = \"Help me in summarizing the text in a bullet point format\"\n",
    "dcs = vectordb.similarity_search(query,k=3)\n",
    "\n",
    "print(dcs,sep = \"\\n\")\n"
   ]
  },
  {
   "cell_type": "code",
   "execution_count": 15,
   "id": "c002c127-f0a7-46d3-b2a2-36b8d592f7f7",
   "metadata": {},
   "outputs": [],
   "source": [
    "from langchain.chains.question_answering import load_qa_chain"
   ]
  },
  {
   "cell_type": "code",
   "execution_count": 16,
   "id": "520b7f42-70e6-4257-8328-3c9460938422",
   "metadata": {},
   "outputs": [
    {
     "name": "stdout",
     "output_type": "stream",
     "text": [
      "\n",
      "* Create an Azure Web App\n",
      "* Develop or Configure Your Chatbot\n",
      "* Set up Communication Channels\n",
      "* ServiceNow API Integration\n",
      "  * Create a ServiceNow developer account\n",
      "  * Obtain the necessary API credentials (API key or OAuth tokens) from ServiceNow\n",
      "  * Implement code in your Azure Web App to make HTTP requests to ServiceNow's API to retrieve or update records, create incidents, etc.\n",
      "* Bot Logic\n",
      "  * Your chatbot logic should now include actions that interact with ServiceNow\n",
      "  * For example, when a user asks the chatbot to create a ServiceNow incident, the bot should make an API call to create the incident in ServiceNow and respond to the user with the incident number or status.\n",
      "* Testing\n",
      "  * Thoroughly test your chatbot's integration with ServiceNow\n",
      "  * Ensure that it can handle different user requests and interact effectively with ServiceNow's API\n",
      "* Security and Authentication\n",
      "  * Ensure that your Azure Web App and the communication with ServiceNow are secure\n",
      "  * This may involve using OAuth or API keys securely\n",
      "* Deployment\n",
      "  * Deploy your Azure Web App with the integrated chatbot to make it accessible to users\n",
      "* Monitoring and Maintenance\n",
      "  * Continuously monitor your chatbot and make necessary updates to handle changes in ServiceNow's API or chatbot behavior\n",
      "* User Training and Documentation\n",
      "  * If this chatbot is for internal use, provide training to users on how to interact with it\n",
      "  * If it's for external customers, create documentation or guides\n"
     ]
    }
   ],
   "source": [
    "chain = load_qa_chain(llm=llm)\n",
    "response =  chain.run(input_documents = docs,question = query)\n",
    "print(response,sep='\\n')"
   ]
  },
  {
   "cell_type": "code",
   "execution_count": null,
   "id": "e90b87b4-1b32-4ffc-9af1-e8bed36d7f12",
   "metadata": {},
   "outputs": [],
   "source": []
  }
 ],
 "metadata": {
  "kernelspec": {
   "display_name": "Python 3 (ipykernel)",
   "language": "python",
   "name": "python3"
  },
  "language_info": {
   "codemirror_mode": {
    "name": "ipython",
    "version": 3
   },
   "file_extension": ".py",
   "mimetype": "text/x-python",
   "name": "python",
   "nbconvert_exporter": "python",
   "pygments_lexer": "ipython3",
   "version": "3.11.3"
  }
 },
 "nbformat": 4,
 "nbformat_minor": 5
}
