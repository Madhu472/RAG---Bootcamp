{
 "cells": [
  {
   "cell_type": "code",
   "execution_count": 1,
   "id": "4059352f-b0e9-446d-9c87-6b02554d66be",
   "metadata": {},
   "outputs": [],
   "source": [
    "from PyPDF2 import PdfReader\n",
    "from langchain.text_splitter import RecursiveCharacterTextSplitter\n",
    "from langchain.vectorstores import FAISS \n",
    "import openai\n",
    "import import_ipynb\n",
    "from Config import *\n",
    "import os\n",
    "import warnings\n",
    "warnings.filterwarnings(\"ignore\")"
   ]
  },
  {
   "cell_type": "markdown",
   "id": "0bb27307-5324-4961-b606-727aa919dd26",
   "metadata": {},
   "source": [
    "#### Environmental Variables"
   ]
  },
  {
   "cell_type": "code",
   "execution_count": 2,
   "id": "ea881988-e222-40bf-89ce-20691163021b",
   "metadata": {},
   "outputs": [],
   "source": [
    "os.environ[\"OPENAI_API_TYPE\"] = key_value_dict['api_type']\n",
    "os.environ[\"OPENAI_API_VERSION\"] = key_value_dict['api_version']\n",
    "os.environ[\"OPENAI_API_BASE\"] = key_value_dict['api_base']\n",
    "os.environ[\"OPENAI_API_KEY\"] = key_value_dict['api_key']"
   ]
  },
  {
   "cell_type": "code",
   "execution_count": 3,
   "id": "a0458a13-1876-4f8e-aa92-f9c7f2dd1fe5",
   "metadata": {},
   "outputs": [],
   "source": [
    "# location of the pdf file/files. \n",
    "doc_reader = PdfReader('knn.pdf')"
   ]
  },
  {
   "cell_type": "code",
   "execution_count": 4,
   "id": "a91ee498-ced2-4ae5-95c4-0a0c24efc3d0",
   "metadata": {},
   "outputs": [],
   "source": [
    "# read data from the file and put them into a variable called raw_text\n",
    "raw_text = ''\n",
    "for i, page in enumerate(doc_reader.pages):\n",
    "    text = page.extract_text()\n",
    "    if text:\n",
    "        raw_text += text"
   ]
  },
  {
   "cell_type": "code",
   "execution_count": 5,
   "id": "280022ad-a843-4972-8835-881afeeac11c",
   "metadata": {},
   "outputs": [],
   "source": [
    "# Splitting up the text into smaller chunks for indexing\n",
    "text_splitter = RecursiveCharacterTextSplitter(        \n",
    "    chunk_size = 800,\n",
    "    chunk_overlap  = 200 #striding over the text\n",
    ")\n",
    "texts = text_splitter.split_text(raw_text)"
   ]
  },
  {
   "cell_type": "code",
   "execution_count": 6,
   "id": "e25fd7d0-7c48-437f-92b7-158bd51148c9",
   "metadata": {},
   "outputs": [
    {
     "data": {
      "text/plain": [
       "['K-Nearest Neighbour\\nTushar B. Kute,\\nhttp://tusharkute.com\\nWhat sort of Machine Learning?\\n•An idea that can be used for machine learning—\\nas does another maxim involving poultry: \"birds \\nof a feather flock together.\" \\n•In other words, things that are alike are likely to \\nhave properties that are alike. \\n•We can use this principle to classify data by \\nplacing it in the category with the most similar, \\nor \"nearest\" neighbors.\\nNearest Neighbor Classification\\n•In a single sentence, nearest neighbor classifiers are defined \\nby their characteristic of classifying unlabeled examples by \\nassigning them the class of the most similar labeled examples. \\nDespite the simplicity of this idea, nearest neighbor methods \\nare extremely powerful. They have been used successfully for:',\n",
       " 'assigning them the class of the most similar labeled examples. \\nDespite the simplicity of this idea, nearest neighbor methods \\nare extremely powerful. They have been used successfully for:\\n–Computer vision applications, including optical character \\nrecognition and facial recognition in both still images and \\nvideo\\n–Predicting whether a person enjoys a movie which he/she \\nhas been recommended (as in the Netflix challenge)\\n–Identifying patterns in genetic data, for use in detecting \\nspecific protein or diseases\\nThe kNN Algorithm\\n•The kNN algorithm begins with a training dataset \\nmade up of examples that are classified into several \\ncategories, as labeled by a nominal variable. \\n•Assume that we have a test dataset containing \\nunlabeled examples that otherwise have the same']"
      ]
     },
     "execution_count": 6,
     "metadata": {},
     "output_type": "execute_result"
    }
   ],
   "source": [
    "texts[:2]"
   ]
  },
  {
   "cell_type": "code",
   "execution_count": 7,
   "id": "a5a2912b-1d1a-433c-9408-27b28ae6e0dd",
   "metadata": {},
   "outputs": [
    {
     "name": "stdout",
     "output_type": "stream",
     "text": [
      "You have a total of 11 chunks\n"
     ]
    }
   ],
   "source": [
    "print(f\"You have a total of {len(texts)} chunks\")"
   ]
  },
  {
   "cell_type": "code",
   "execution_count": 8,
   "id": "f8b2217b-7ff4-4844-be46-79f138e08d60",
   "metadata": {},
   "outputs": [],
   "source": [
    "from langchain.embeddings import AzureOpenAIEmbeddings"
   ]
  },
  {
   "cell_type": "code",
   "execution_count": 9,
   "id": "bf87f394-230b-4034-a996-003a7a18044d",
   "metadata": {},
   "outputs": [],
   "source": [
    "embeddings = AzureOpenAIEmbeddings(\n",
    "    deployment=key_value_dict[\"embed_eng_dep_nm\"],\n",
    "    model=key_value_dict[\"embedding_model\"],\n",
    "    chunk_size=1,\n",
    ")"
   ]
  },
  {
   "cell_type": "code",
   "execution_count": 10,
   "id": "af393d5f-b54c-49bc-88f5-92fcd7ef3f82",
   "metadata": {},
   "outputs": [],
   "source": [
    "db = FAISS.from_texts(texts, embeddings)"
   ]
  },
  {
   "cell_type": "code",
   "execution_count": 11,
   "id": "406091f4-52ce-4de2-81aa-41c42ec141f5",
   "metadata": {},
   "outputs": [],
   "source": [
    "from langchain.prompts import PromptTemplate"
   ]
  },
  {
   "cell_type": "code",
   "execution_count": 12,
   "id": "f3afc266-8ef0-41ca-980e-2315eddb8907",
   "metadata": {},
   "outputs": [],
   "source": [
    "prompt_template = \"\"\" You are an AI Chatbot assistant trained on the context provided. Use the following pieces of context to\n",
    "answer the question asked:\n",
    "Provide me all the steps involved in resolving/guiding with clear explanation, \n",
    "paraphrase the steps to fluent english so that it feels like chatting with a human\n",
    "Always answer in way that you are creator and holds responsible always in providing steps with proper formatting,\n",
    "give me answer in clear number wise steps always,\n",
    "Strictly, Don't provide answers if any questions which is not from the context provided,\n",
    "If you don't know the answer, just say that Out of Context.\n",
    "\n",
    "{context}\n",
    "Question: {question}\n",
    "\n",
    "Answer: \"\"\""
   ]
  },
  {
   "cell_type": "code",
   "execution_count": 13,
   "id": "bf0b6e7b-1d34-413f-9bf1-29303939b7f0",
   "metadata": {},
   "outputs": [],
   "source": [
    "prompt = PromptTemplate(\n",
    "            template=prompt_template, input_variables=[\"context\", \"question\"]\n",
    "        )"
   ]
  },
  {
   "cell_type": "code",
   "execution_count": 14,
   "id": "99def2e4-5962-4984-bb1f-775227e99175",
   "metadata": {},
   "outputs": [],
   "source": [
    "from langchain.chains.question_answering import load_qa_chain\n",
    "from langchain.chat_models import AzureChatOpenAI"
   ]
  },
  {
   "cell_type": "code",
   "execution_count": 15,
   "id": "1424524b-715d-43bc-8e0b-78ee46552b10",
   "metadata": {},
   "outputs": [],
   "source": [
    " llm = AzureChatOpenAI(\n",
    "            deployment_name=key_value_dict[\"comp_eng_dep_nm\"],\n",
    "            temperature=0,\n",
    "            openai_api_version=key_value_dict[\"api_version\"])"
   ]
  },
  {
   "cell_type": "code",
   "execution_count": 16,
   "id": "5902cb9a-4368-428d-9e05-9dc5655e00e3",
   "metadata": {},
   "outputs": [],
   "source": [
    "chain = load_qa_chain(llm, chain_type=\"stuff\", prompt=prompt)"
   ]
  },
  {
   "cell_type": "code",
   "execution_count": 17,
   "id": "64f18d1d-f16c-4359-9572-6004217e791d",
   "metadata": {},
   "outputs": [],
   "source": [
    "from langchain.memory import ConversationBufferMemory\n",
    "memory = ConversationBufferMemory(\n",
    "            memory_key=\"chat_history\", return_messages=True\n",
    "        )"
   ]
  },
  {
   "cell_type": "code",
   "execution_count": 18,
   "id": "927b78e9-6135-4ea0-b258-36a67f4d5356",
   "metadata": {},
   "outputs": [],
   "source": [
    "query = \"Explain about KNN classifier?\""
   ]
  },
  {
   "cell_type": "code",
   "execution_count": 19,
   "id": "3a5925c1-a8b6-4e54-964f-29e74097c814",
   "metadata": {},
   "outputs": [],
   "source": [
    "docs = db.similarity_search(query, include_metadata=True, k=3)\n",
    "result = chain.run(input_documents=docs, question=query,memory=memory)"
   ]
  },
  {
   "cell_type": "code",
   "execution_count": 20,
   "id": "85b10aa7-7ea9-4e29-9102-1749048a9376",
   "metadata": {},
   "outputs": [
    {
     "name": "stdout",
     "output_type": "stream",
     "text": [
      "Sure, I can help you with that. Here are the steps involved in understanding the KNN classifier:\n",
      "\n",
      "1. Understand the concept: KNN is a machine learning algorithm that classifies data by placing it in the category with the most similar, or \"nearest\" neighbors. This means that it looks at the properties of the data and compares them to other data points to determine which category it belongs to.\n",
      "\n",
      "2. Install necessary packages: To use KNN, you will need to install some Python packages such as pandas, numpy, matplotlib.pyplot, and sklearn. These packages are used for data analytics, numerical computing, plotting graphs, and classification and regression classes.\n",
      "\n",
      "3. Choose a sample application: A good project to start with on KNN is the classification of iris flowers. This is a well-understood project that allows you to practice with supervised learning algorithms. It is a multi-class classification problem that may require some specialized handling.\n",
      "\n",
      "4. Prepare the dataset: The dataset is made up of examples that are classified into several categories, as labeled by a nominal variable. You will need to figure out how to load and handle the data.\n",
      "\n",
      "5. Calculate distance: To classify the data, KNN uses a distance function, or a formula that measures the similarity between two instances. This helps to identify the nearest neighbors.\n",
      "\n",
      "6. Identify the nearest neighbors: For each record in the test dataset, KNN identifies k records in the training data that are the \"nearest\" in similarity, where k is an integer specified in advance.\n",
      "\n",
      "7. Assign the class: The unlabeled test instance is assigned the class of the majority of the k nearest neighbors.\n",
      "\n",
      "I hope this helps! Let me know if you have any other questions.\n"
     ]
    }
   ],
   "source": [
    "print(result,sep = \"\\n\")"
   ]
  },
  {
   "cell_type": "code",
   "execution_count": 23,
   "id": "5c371b86-af68-4f19-90a5-425cb8b1d2b2",
   "metadata": {},
   "outputs": [
    {
     "name": "stdout",
     "output_type": "stream",
     "text": [
      "Out of Context.\n"
     ]
    }
   ],
   "source": [
    "query = \"Who is donald Trump?\"\n",
    "docs = db.similarity_search(query, include_metadata=True, k=3)\n",
    "result = chain.run(input_documents=docs, question=query,memory=memory)\n",
    "print(result,sep = \"\\n\")"
   ]
  },
  {
   "cell_type": "code",
   "execution_count": null,
   "id": "53cce7be-ca2d-4388-aa87-d3cab92f6864",
   "metadata": {},
   "outputs": [],
   "source": []
  }
 ],
 "metadata": {
  "kernelspec": {
   "display_name": "Python 3 (ipykernel)",
   "language": "python",
   "name": "python3"
  },
  "language_info": {
   "codemirror_mode": {
    "name": "ipython",
    "version": 3
   },
   "file_extension": ".py",
   "mimetype": "text/x-python",
   "name": "python",
   "nbconvert_exporter": "python",
   "pygments_lexer": "ipython3",
   "version": "3.11.3"
  }
 },
 "nbformat": 4,
 "nbformat_minor": 5
}
